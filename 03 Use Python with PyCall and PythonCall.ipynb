{
 "cells": [
  {
   "attachments": {},
   "cell_type": "markdown",
   "metadata": {},
   "source": [
    "[![Binder](https://mybinder.org/badge_logo.svg)](https://notebooks.gesis.org/binder/v2/gh/jolin-io/fall-in-love-with-julia-13/main?filepath=03%20Use%20Python%20with%20PyCall%20and%20PythonCall.ipynb)"
   ]
  },
  {
   "attachments": {},
   "cell_type": "markdown",
   "metadata": {},
   "source": [
    "<a href=\"https://www.jolin.io\" target=\"_blank\" rel=\"noreferrer noopener\">\n",
    "<img src=\"https://www.jolin.io/assets/Jolin/Jolin-Banner-Website-v1.3-darkmode.webp\">\n",
    "</a>"
   ]
  },
  {
   "attachments": {},
   "cell_type": "markdown",
   "metadata": {},
   "source": [
    "# Fall-in-love-with-Julia: Accelerating Python 101\n",
    "\n",
    "For Julia Python interactions there are two packages:\n",
    "\n",
    "|    | [PyCall.jl](https://github.com/JuliaPy/PyCall.jl) | [PythonCall.jl](https://github.com/cjdoris/PythonCall.jl) |\n",
    "| -: | --------- | ------------- |\n",
    "| pypi | with [`PyJulia`](https://github.com/JuliaPy/pyjulia) python package (simply called `julia` on pypi) | with [`JuliaCall`](https://pypi.org/project/juliacall/) python package |\n",
    "| conversions | automatically converts between native types | no auto-conversion, just wrapping |\n",
    "| dependencies | Global package management via `Conda.jl` | Project-separated package management via `CondaPkg.jl` |\n",
    "| run python | use `py\"...\"` | use `@pyexec \"...\"` |\n",
    "\n",
    "Outline\n",
    "- [01](https://notebooks.gesis.org/binder/v2/gh/jolin-io/fall-in-love-with-julia-13/main?filepath=01%20Accelerating%20Python%20with%20PyJulia.ipynb) first notebook shows how to use PyJulia\n",
    "- [02](https://notebooks.gesis.org/binder/v2/gh/jolin-io/fall-in-love-with-julia-13/main?filepath=02%20Accelerating%20Python%20with%20JuliaCall.ipynb) second notebook is about JuliaCall\n",
    "- **[03](https://notebooks.gesis.org/binder/v2/gh/jolin-io/fall-in-love-with-julia-13/main?filepath=03%20Use%20Python%20with%20PyCall%20and%20PythonCall.ipynb) using Python from Julia with PyCall**\n",
    "- [special extra](https://mybinder.org/v2/gh/jolin-io/workshop-accelerate-Python-with-Julia/main?filepath=03-example-cython-vs-cpp-vs-julia.ipynb) - Julia vs C++"
   ]
  },
  {
   "cell_type": "code",
   "execution_count": null,
   "metadata": {},
   "outputs": [],
   "source": [
    "# small helper for html interaction, export @htl macro\n",
    "using HypertextLiteral"
   ]
  },
  {
   "cell_type": "code",
   "execution_count": null,
   "metadata": {},
   "outputs": [],
   "source": [
    "# show plotly plot\n",
    "show_plotly(fig, width=\"80%\", height=\"500px\") = mktempdir() do tmp \n",
    "    fig.write_html(\"$tmp/result.html\")\n",
    "    @htl \"\"\"<iframe width=\"$width\" height=\"$height\" srcdoc=\"$(readchomp(\"$tmp/result.html\"))\"/>\"\"\"\n",
    "end"
   ]
  },
  {
   "attachments": {},
   "cell_type": "markdown",
   "metadata": {},
   "source": [
    "# PyCall\n",
    "\n",
    "We reuse binder's default Python (and also support a local virtual env for developing this notebook locally in vscode)."
   ]
  },
  {
   "cell_type": "code",
   "execution_count": null,
   "metadata": {},
   "outputs": [],
   "source": [
    "local_venv = abspath(joinpath(Base.current_project(), \"..\", \".venv\", \"bin\", \"python3\"))\n",
    "ENV[\"PYTHON\"] = isfile(local_venv) ? local_venv : \"python3\"\n",
    "import PyCall\n",
    "import PyCall: @py_str"
   ]
  },
  {
   "cell_type": "code",
   "execution_count": null,
   "metadata": {},
   "outputs": [],
   "source": [
    "pd = PyCall.pyimport(\"pandas\")\n",
    "pd.options.plotting.backend = \"plotly\""
   ]
  },
  {
   "cell_type": "code",
   "execution_count": null,
   "metadata": {},
   "outputs": [],
   "source": [
    "n = 4\n",
    "pdf = pd.DataFrame(Dict(:a => 1:n, :b => rand(n), :c => sin.(1:n)))"
   ]
  },
  {
   "cell_type": "code",
   "execution_count": null,
   "metadata": {},
   "outputs": [],
   "source": [
    "fig = pdf.plot(kind=\"bar\", x=\"a\", y=\"c\")\n",
    "show_plotly(fig)"
   ]
  },
  {
   "attachments": {},
   "cell_type": "markdown",
   "metadata": {},
   "source": [
    "### What to do if you just want to execute some python?"
   ]
  },
  {
   "cell_type": "code",
   "execution_count": null,
   "metadata": {},
   "outputs": [],
   "source": [
    "py\"\"\"\n",
    "import numpy as np\n",
    "# use $() to use variables from the running julia process\n",
    "$pdf[\"sin\"] = np.sin($pdf.a)\n",
    "\"\"\""
   ]
  },
  {
   "attachments": {},
   "cell_type": "markdown",
   "metadata": {},
   "source": [
    "NOTE that the multiline `py\"\"\"...\"\"\"` string does not have a return value.\n",
    "\n",
    "For return values you need to use it singleline `py\"...\"`"
   ]
  },
  {
   "cell_type": "code",
   "execution_count": null,
   "metadata": {},
   "outputs": [],
   "source": [
    "py\"$pdf[$pdf.a > 2]\""
   ]
  },
  {
   "cell_type": "code",
   "execution_count": null,
   "metadata": {},
   "outputs": [],
   "source": [
    "show_plotly(pdf.plot(x=\"a\", y=\"sin\"))"
   ]
  },
  {
   "attachments": {},
   "cell_type": "markdown",
   "metadata": {},
   "source": [
    "# PythonCall\n",
    "\n",
    "PythonCall does not have `py\"...\"` string, but comes with a `@py` macro."
   ]
  },
  {
   "cell_type": "code",
   "execution_count": null,
   "metadata": {},
   "outputs": [],
   "source": [
    "# we can reuse the same Python as PyCall uses\n",
    "ENV[\"JULIA_PYTHONCALL_EXE\"] = \"@PyCall\"\n",
    "import PythonCall\n",
    "import PythonCall: @py"
   ]
  },
  {
   "attachments": {},
   "cell_type": "markdown",
   "metadata": {},
   "source": [
    "While you could write\n",
    "```julia\n",
    "pd2 = PythonCall.pyimport(\"pandas\")\n",
    "```\n",
    "just like in PyCall, you can also do"
   ]
  },
  {
   "cell_type": "code",
   "execution_count": null,
   "metadata": {},
   "outputs": [],
   "source": [
    "@py import pandas as pd2\n",
    "pd2.options.plotting.backend = \"matplotlib\""
   ]
  },
  {
   "attachments": {},
   "cell_type": "markdown",
   "metadata": {},
   "source": [
    "Because PythonCall does not autoconvert anything, we need a bit more manual work here and there.\n",
    "\n",
    "In our example of constructing a pandas DataFrame from a julia Dict we need to:\n",
    "- use Strings as keys\n",
    "- use explicit transformation to Python's `dict` type\n",
    "\n",
    "As you have seen previously, the support for transforming julia DataFrame to pandas DataFrame is better actually."
   ]
  },
  {
   "cell_type": "code",
   "execution_count": null,
   "metadata": {},
   "outputs": [],
   "source": [
    "n = 4\n",
    "pdf2 = pd2.DataFrame(PythonCall.pybuiltins.dict(\n",
    "    Dict(\"a\" => 1:n, \"b\" => rand(n), \"c\" => sin.(1:n))\n",
    "))"
   ]
  },
  {
   "attachments": {},
   "cell_type": "markdown",
   "metadata": {},
   "source": [
    "PythonCall comes with pretty printing support for matplotlib figures"
   ]
  },
  {
   "cell_type": "code",
   "execution_count": null,
   "metadata": {},
   "outputs": [],
   "source": [
    "pdf2.plot(kind=\"bar\", x=\"a\", y=\"b\").figure"
   ]
  },
  {
   "cell_type": "code",
   "execution_count": null,
   "metadata": {},
   "outputs": [],
   "source": [
    "@py pdf2[pdf2.a > 2]\n",
    "# This actually also works without @py.\n",
    "# Sometimes the julia interpretation is not enough and may lead to errors.\n",
    "# Then using @py will probably solve the issues for you."
   ]
  },
  {
   "attachments": {},
   "cell_type": "markdown",
   "metadata": {},
   "source": [
    "### Some further notes on conversions\n",
    "\n",
    "This is specific to PythonCall. (PyCall does auto-conversion for you.)\n",
    "\n",
    "- `PythonCall.Py(...)` transform julia value to python value (no conversion, just wrapping).\n",
    "  - Everything is automatically wrapped by `Py` if you use python functions.\n",
    "  - also inside `@py` everything is automatically wrapped\n",
    "  - if you want to convert some julia value to a python value, then use the python constructors on the python wrappers\n",
    "- `pyconvert(Type, pythonvalue)` transform python value to julia value (with conversion)\n"
   ]
  },
  {
   "cell_type": "code",
   "execution_count": null,
   "metadata": {},
   "outputs": [],
   "source": [
    "PythonCall.Py(\" \").join([\"hello\", \"world\"])"
   ]
  },
  {
   "attachments": {},
   "cell_type": "markdown",
   "metadata": {},
   "source": [
    "or alternatively with `@py`"
   ]
  },
  {
   "cell_type": "code",
   "execution_count": null,
   "metadata": {},
   "outputs": [],
   "source": [
    "sentence = @py \" \".join([\"hello\", \"world\"])"
   ]
  },
  {
   "cell_type": "code",
   "execution_count": null,
   "metadata": {},
   "outputs": [],
   "source": [
    "# get a real Julia String\n",
    "PythonCall.pyconvert(String, sentence)"
   ]
  },
  {
   "attachments": {},
   "cell_type": "markdown",
   "metadata": {},
   "source": [
    "### Something like py\"...\"?\n",
    "\n",
    "In case you just have some plain python which you want to run, use `@pyexec` and `@pyeval`.\n",
    "\n",
    "> Note that `@pyexec`/ `@pyeval` do not support interpolation"
   ]
  },
  {
   "cell_type": "code",
   "execution_count": null,
   "metadata": {},
   "outputs": [],
   "source": [
    "PythonCall.@pyexec \"\"\"\n",
    "# You need global pyfun because @pyexec introduces a new local scope.\n",
    "global pyfun\n",
    "def pyfun(a):\n",
    "    return 2*a + 9\n",
    "\"\"\""
   ]
  },
  {
   "cell_type": "code",
   "execution_count": null,
   "metadata": {},
   "outputs": [],
   "source": [
    "pyfun = PythonCall.@pyeval \"pyfun\""
   ]
  },
  {
   "attachments": {},
   "cell_type": "markdown",
   "metadata": {},
   "source": [
    "# Next: [special extra, comparing C++ & Julia](https://mybinder.org/v2/gh/jolin-io/workshop-accelerate-Python-with-Julia/main?filepath=03-example-cython-vs-cpp-vs-julia.ipynb)\n",
    "\n",
    "For questions or suggestions please contact me at stephan.sahm@jolin.io\n",
    "\n",
    "<a href=\"https://www.jolin.io\" target=\"_blank\" rel=\"noreferrer noopener\">\n",
    "<img src=\"https://www.jolin.io/assets/Jolin/Jolin-Banner-Website-v1.3-darkmode.webp\">\n",
    "</a>"
   ]
  }
 ],
 "metadata": {
  "kernelspec": {
   "display_name": "Julia 1.9.0",
   "language": "julia",
   "name": "julia-1.9"
  },
  "language_info": {
   "file_extension": ".jl",
   "mimetype": "application/julia",
   "name": "julia",
   "version": "1.9.0"
  },
  "orig_nbformat": 4
 },
 "nbformat": 4,
 "nbformat_minor": 2
}
